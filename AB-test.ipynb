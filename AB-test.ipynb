{
 "cells": [
  {
   "cell_type": "markdown",
   "id": "f8470304-e1d0-4b8b-88c6-51120b6aa9a0",
   "metadata": {
    "tags": []
   },
   "source": [
    "### <font color='DarkCyan'>Описание задания</font>\n",
    "\n",
    "Основная гипотеза заключается в том, что новый алгоритм во 2-й группе приведет к увеличению CTR. \n",
    "Ваша задача — проанализировать данные АB-теста. \n",
    "\n",
    "### <font color='DarkCyan'>Что у нас есть:</font>\n",
    "Данные с <b>2022-10-03</b> по <b>'2022-10-09'</b> включительно.  \n",
    "Группа <b>1</b> - контрольная.  \n",
    "Группа <b>2</b> - экспериментальная (был использован один из новых алгоритмов рекомендации постов).\n",
    "\n",
    "### <font color='DarkCyan'>Что нужно сделать:</font>\n",
    "* Построить графики распределений. \n",
    "* Сравнить CTR в двух группах с помощью всех изученных методов анализа <i>(t-тест, Пуассоновский бутстреп, тест Манна-Уитни, t-тест на сглаженном ctr (α=5) а также t-тест и тест Манна-Уитни поверх бакетного преобразования)</i>.\n",
    "* Подумать, почему результаты показали то, что показали. \n",
    "* Написать рекомендацию - стоит ли раскатывать полученные результаты на всех пользователей. "
   ]
  },
  {
   "cell_type": "code",
   "execution_count": 1,
   "id": "31e7522a-77b0-48bd-954c-f30b9feef7fe",
   "metadata": {},
   "outputs": [],
   "source": [
    "import pandas as pd\n",
    "import numpy as np\n",
    "import scipy.stats as st\n",
    "import seaborn as sns\n",
    "import matplotlib.pyplot as plt"
   ]
  },
  {
   "cell_type": "markdown",
   "id": "3f362bb1-70f1-413f-82e4-11143572bb9e",
   "metadata": {},
   "source": [
    "### <font color='DarkCyan'>Извлечение необходимых данных из базы данных</font>"
   ]
  },
  {
   "cell_type": "markdown",
   "id": "10e18c56",
   "metadata": {},
   "source": [
    "Данные были извлечены из базы данных с помощью Clickhouse, ниже можно увидеть запрос"
   ]
  },
  {
   "cell_type": "code",
   "execution_count": 2,
   "id": "d8f4bae3-5cfe-4c72-b3d1-274b93beac61",
   "metadata": {},
   "outputs": [
    {
     "data": {
      "text/plain": [
       "'query = \"\"\"SELECT exp_group, \\n        user_id,\\n        sum(action = \\'like\\') as likes,\\n        sum(action = \\'view\\') as views,\\n        likes/views as ctr\\n    FROM {db}.feed_actions \\n    WHERE toDate(time) between \\'2022-10-03\\' and \\'2022-10-09\\'\\n        and exp_group in (1,2)\\n    GROUP BY exp_group, user_id\"\"\" '"
      ]
     },
     "execution_count": 2,
     "metadata": {},
     "output_type": "execute_result"
    }
   ],
   "source": [
    "'''query = \"\"\"SELECT exp_group, \n",
    "        user_id,\n",
    "        sum(action = 'like') as likes,\n",
    "        sum(action = 'view') as views,\n",
    "        likes/views as ctr\n",
    "    FROM {db}.feed_actions \n",
    "    WHERE toDate(time) between '2022-10-03' and '2022-10-09'\n",
    "        and exp_group in (1,2)\n",
    "    GROUP BY exp_group, user_id\"\"\" '''"
   ]
  },
  {
   "cell_type": "code",
   "execution_count": 3,
   "id": "ad62a37b",
   "metadata": {},
   "outputs": [
    {
     "data": {
      "text/html": [
       "<div>\n",
       "<style scoped>\n",
       "    .dataframe tbody tr th:only-of-type {\n",
       "        vertical-align: middle;\n",
       "    }\n",
       "\n",
       "    .dataframe tbody tr th {\n",
       "        vertical-align: top;\n",
       "    }\n",
       "\n",
       "    .dataframe thead th {\n",
       "        text-align: right;\n",
       "    }\n",
       "</style>\n",
       "<table border=\"1\" class=\"dataframe\">\n",
       "  <thead>\n",
       "    <tr style=\"text-align: right;\">\n",
       "      <th></th>\n",
       "      <th>exp_group</th>\n",
       "      <th>user_id</th>\n",
       "      <th>likes</th>\n",
       "      <th>views</th>\n",
       "      <th>ctr</th>\n",
       "    </tr>\n",
       "  </thead>\n",
       "  <tbody>\n",
       "    <tr>\n",
       "      <th>0</th>\n",
       "      <td>1</td>\n",
       "      <td>109963</td>\n",
       "      <td>3</td>\n",
       "      <td>15</td>\n",
       "      <td>0.200000</td>\n",
       "    </tr>\n",
       "    <tr>\n",
       "      <th>1</th>\n",
       "      <td>1</td>\n",
       "      <td>26117</td>\n",
       "      <td>32</td>\n",
       "      <td>141</td>\n",
       "      <td>0.226950</td>\n",
       "    </tr>\n",
       "    <tr>\n",
       "      <th>2</th>\n",
       "      <td>1</td>\n",
       "      <td>138232</td>\n",
       "      <td>18</td>\n",
       "      <td>73</td>\n",
       "      <td>0.246575</td>\n",
       "    </tr>\n",
       "    <tr>\n",
       "      <th>3</th>\n",
       "      <td>1</td>\n",
       "      <td>26295</td>\n",
       "      <td>33</td>\n",
       "      <td>122</td>\n",
       "      <td>0.270492</td>\n",
       "    </tr>\n",
       "    <tr>\n",
       "      <th>4</th>\n",
       "      <td>1</td>\n",
       "      <td>18392</td>\n",
       "      <td>7</td>\n",
       "      <td>32</td>\n",
       "      <td>0.218750</td>\n",
       "    </tr>\n",
       "  </tbody>\n",
       "</table>\n",
       "</div>"
      ],
      "text/plain": [
       "   exp_group  user_id  likes  views       ctr\n",
       "0          1   109963      3     15  0.200000\n",
       "1          1    26117     32    141  0.226950\n",
       "2          1   138232     18     73  0.246575\n",
       "3          1    26295     33    122  0.270492\n",
       "4          1    18392      7     32  0.218750"
      ]
     },
     "execution_count": 3,
     "metadata": {},
     "output_type": "execute_result"
    }
   ],
   "source": [
    "data = pd.read_csv('C:/Users/folde/Desktop/ab-test.csv')\n",
    "data.head()"
   ]
  },
  {
   "cell_type": "markdown",
   "id": "db24294b-f271-43af-91a5-e37c98de416c",
   "metadata": {},
   "source": [
    "### <font color='DarkCyan'>Визуализация распределений CTR в двух группах</font>"
   ]
  },
  {
   "cell_type": "code",
   "execution_count": 4,
   "id": "9a7edf8a-a790-4a51-92ca-853fb6c263ab",
   "metadata": {},
   "outputs": [
    {
     "data": {
      "text/plain": [
       "Text(0.5, 1.0, 'Показатель CTR внутри групп')"
      ]
     },
     "execution_count": 4,
     "metadata": {},
     "output_type": "execute_result"
    },
    {
     "data": {
      "image/png": "[encoded data removed]",
      "text/plain": [
       "<Figure size 842.4x595.44 with 1 Axes>"
      ]
     },
     "metadata": {},
     "output_type": "display_data"
    }
   ],
   "source": [
    "sns.set(rc={'figure.figsize':(11.7,8.27)})\n",
    "\n",
    "groups = sns.histplot(data = data, \n",
    "              x='ctr', \n",
    "              hue='exp_group', \n",
    "              palette = ['g', 'b'],\n",
    "              alpha=0.5,\n",
    "              kde=False)\n",
    "plt.title('Показатель CTR внутри групп')"
   ]
  },
  {
   "cell_type": "markdown",
   "id": "53ce2cbf-8f41-4537-a061-6bc427f1f567",
   "metadata": {},
   "source": [
    "В тестовой группе распределение бимодальное, из чего следует:\n",
    "* В данном случае t-test, скорее всего, покажет недостоверные результаты, поэтому он не будет использован в расчетах.\n",
    "* Следует более детально изучить данные по контрольной группе. \n",
    "\n",
    "    Возможные причины:\n",
    "    - Не был проведен АА-тест и группы в целом нельзя сравнивать;\n",
    "    - Часть пользователей имела проблемы с новым функционалом или с работой приложения в целом;\n",
    "    - Пользователи разделились на два лагеря (например, по ОС), где одним обновление \"сильно понравилось\", другим \"сильно не понравилось\"."
   ]
  },
  {
   "cell_type": "markdown",
   "id": "0af0c019-1a41-4d4c-b0c6-ae0b0aa03817",
   "metadata": {},
   "source": [
    "### <font color='DarkCyan'>Сравнение CTR в двух группах с помощью всех изученных методов анализа </font>"
   ]
  },
  {
   "cell_type": "markdown",
   "id": "9bc193a9-b920-4192-8b11-d0fd6dca307e",
   "metadata": {},
   "source": [
    "Гипотезы:  \n",
    "<b>Н0:</b> CTR1=CTR2  \n",
    "<b>Н1:</b> CTR1 != CTR2 (CTR1 > CTR2)"
   ]
  },
  {
   "cell_type": "markdown",
   "id": "0ab35546-af45-4d88-a7a7-aa3052c526ef",
   "metadata": {},
   "source": [
    "### <font color='DarkCyan'>1. Манна-Уитни & Сглаженный Манна-Уитни</font>"
   ]
  },
  {
   "cell_type": "code",
   "execution_count": 5,
   "id": "ac03013d-c521-451b-86ef-d2a2acef181d",
   "metadata": {},
   "outputs": [
    {
     "name": "stdout",
     "output_type": "stream",
     "text": [
      "P-value для CTR1 != CTR2: 6.0376484617779035e-56\n",
      "P-value для CTR1 > CTR2: 3.0188242308889518e-56\n"
     ]
    }
   ],
   "source": [
    "print(f'P-value для CTR1 != CTR2: {st.mannwhitneyu(data[data.exp_group == 1].ctr, data[data.exp_group == 2].ctr, alternative=\"two-sided\").pvalue}')\n",
    "print(f'P-value для CTR1 > CTR2: {st.mannwhitneyu(data[data.exp_group == 1].ctr, data[data.exp_group == 2].ctr, alternative=\"greater\").pvalue}')"
   ]
  },
  {
   "cell_type": "code",
   "execution_count": 6,
   "id": "89176156-36fa-4c8f-8c46-58b6e572d5fa",
   "metadata": {},
   "outputs": [
    {
     "name": "stdout",
     "output_type": "stream",
     "text": [
      "P-value для CTR1 != CTR2: 1.6163964114270227e-61\n",
      "P-value для CTR1 > CTR2: 8.081982057135114e-62\n"
     ]
    }
   ],
   "source": [
    "# считаем сглаженный CTR\n",
    "def smothed_ctr(user_likes, user_views, global_ctr, alpha):\n",
    "    smothed_ctr = (user_likes + alpha * global_ctr) / (user_views + alpha)\n",
    "    return smothed_ctr\n",
    "\n",
    "global_ctr_1 = data[data.exp_group == 1].likes.sum()/data[data.exp_group == 1].views.sum()\n",
    "global_ctr_2 = data[data.exp_group == 2].likes.sum()/data[data.exp_group == 2].views.sum()\n",
    "smothed_ctr_1 = data[data.exp_group == 1].apply(lambda x: smothed_ctr(x.likes, x.views, global_ctr_1, 5), axis=1)\n",
    "smothed_ctr_2 = data[data.exp_group == 2].apply(lambda x: smothed_ctr(x.likes, x.views, global_ctr_2, 5), axis=1)\n",
    "\n",
    "print(f'P-value для CTR1 != CTR2: {st.mannwhitneyu(smothed_ctr_1, smothed_ctr_2, alternative=\"two-sided\").pvalue}')\n",
    "print(f'P-value для CTR1 > CTR2: {st.mannwhitneyu(smothed_ctr_1, smothed_ctr_2, alternative=\"greater\").pvalue}')"
   ]
  },
  {
   "cell_type": "markdown",
   "id": "65eafcea-6009-4dc1-9e3d-844f668f26c6",
   "metadata": {},
   "source": [
    "#### Подтвердилась гипотеза H1: CTR1 > CTR2 => отвергаем гипотезу H0 об отсутствии различий и CTR1>CTR2 "
   ]
  },
  {
   "cell_type": "markdown",
   "id": "63248bed-c0e4-4d2a-bba9-5be62e7f0620",
   "metadata": {},
   "source": [
    "### <font color='DarkCyan'>2. Пуассоновский бутстреп для подсчета разницы в CTR</font>\n",
    "\n",
    "- Берем выборку из группы А (у нас это $user\\_id$ с его $views$ и $clicks$)\n",
    "- Из распределения Пуассона генерируем «сколько раз этот пользователь попал в псевдовыборку». Получается колонка, отражающая «вес» пользователя. Назовем ее $weights_1$\n",
    "- Считаем «глобальный CTR» по псевдовыборке для A*A* :\n",
    "\n",
    "$$\n",
    "globalCTR_A = \\dfrac{sum(clicks_A*weights_1)}{sum(views_A*weights_1)}\n",
    "$$\n",
    "\n",
    "- Берем выборку из группы B (у нас это $user\\_id$ с его $views$ и $clicks$)\n",
    "- Из распределения Пуассона генерируем «сколько раз этот пользователь попал в псевдовыборку». Получается колонка, отражающая «вес» пользователя. Назовем ее $weights_2$\n",
    "- Считаем «глобальный CTR» по псевдовыборке для B*B*:\n",
    "\n",
    "$$\n",
    "globalCTR_B = \\dfrac{sum(clicks_B*weights_2)}{sum(views_B*weights_2)}\n",
    "$$\n",
    "\n",
    "- Считаем разницу между $globalCTR_A - globalCTR_B$ и записываем эту разность, например, в список\n",
    "- Повторяем процедуру много раз, например, 2000\n",
    "\n",
    "Таким образом, мы набираем распределение для разницы в глобальном CTR."
   ]
  },
  {
   "cell_type": "code",
   "execution_count": 7,
   "id": "cebb1014-eab5-48e7-a36e-230d1f473f6d",
   "metadata": {},
   "outputs": [
    {
     "data": {
      "text/plain": [
       "<AxesSubplot:ylabel='Count'>"
      ]
     },
     "execution_count": 7,
     "metadata": {},
     "output_type": "execute_result"
    },
    {
     "data": {
      "image/png": "[encoded data removed]",
      "text/plain": [
       "<Figure size 842.4x595.44 with 1 Axes>"
      ]
     },
     "metadata": {},
     "output_type": "display_data"
    }
   ],
   "source": [
    "def bootstrap(likes1, views1, likes2, views2, n_bootstrap=2000):\n",
    "\n",
    "    poisson_bootstraps1 = st.poisson(1).rvs(\n",
    "        (n_bootstrap, len(likes1))).astype(np.int64)\n",
    "\n",
    "    poisson_bootstraps2 = st.poisson(1).rvs(\n",
    "            (n_bootstrap, len(likes2))).astype(np.int64)\n",
    "    \n",
    "    globalCTR1 = (poisson_bootstraps1*likes1).sum(axis=1)/(poisson_bootstraps1*views1).sum(axis=1)\n",
    "    \n",
    "    globalCTR2 = (poisson_bootstraps2*likes2).sum(axis=1)/(poisson_bootstraps2*views2).sum(axis=1)\n",
    "\n",
    "    return globalCTR1, globalCTR2\n",
    "\n",
    "likes1 = data[data.exp_group == 1].likes.to_numpy()\n",
    "views1 = data[data.exp_group == 1].views.to_numpy()\n",
    "likes2 = data[data.exp_group == 2].likes.to_numpy()\n",
    "views2 = data[data.exp_group == 2].views.to_numpy()\n",
    "\n",
    "ctr1, ctr2 = bootstrap(likes1, views1, likes2, views2)\n",
    "\n",
    "sns.histplot(ctr1)\n",
    "sns.histplot(ctr2)"
   ]
  },
  {
   "cell_type": "markdown",
   "id": "d044eac0-63c3-4a22-9d15-f7268b2253eb",
   "metadata": {},
   "source": [
    "#### Распределение CTR в двух группах не пересекается => Отвергаем гипотезу HO и CTR1 > CTR2"
   ]
  },
  {
   "cell_type": "code",
   "execution_count": 8,
   "id": "34d8dcdb-8631-4ca4-ab0f-28753e2f87db",
   "metadata": {},
   "outputs": [
    {
     "data": {
      "text/plain": [
       "<AxesSubplot:ylabel='Count'>"
      ]
     },
     "execution_count": 8,
     "metadata": {},
     "output_type": "execute_result"
    },
    {
     "data": {
      "image/png": "[encoded data removed]",
      "text/plain": [
       "<Figure size 842.4x595.44 with 1 Axes>"
      ]
     },
     "metadata": {},
     "output_type": "display_data"
    }
   ],
   "source": [
    "#Разница между глобальными CTR\n",
    "sns.histplot(ctr1 - ctr2)"
   ]
  },
  {
   "cell_type": "markdown",
   "id": "43342111-459a-467d-b89e-05f3527bd8cc",
   "metadata": {},
   "source": [
    "#### Распределение разниц глобальных CTR не пересекает 0, а значения > 0, => CTR1 > CTR2"
   ]
  },
  {
   "cell_type": "markdown",
   "id": "1125d6a7-a1db-4a8f-95c6-5b71b5054dd1",
   "metadata": {},
   "source": [
    "### <font color='DarkCyan'>3. Бакетное преобразование</font>"
   ]
  },
  {
   "cell_type": "markdown",
   "id": "2a5e1116",
   "metadata": {},
   "source": [
    "Данные были извлечены из базы данных с помощью Clickhouse, ниже можно увидеть запрос"
   ]
  },
  {
   "cell_type": "code",
   "execution_count": 10,
   "id": "d7fcc5b5-83c6-4bab-b904-13d77e4c146e",
   "metadata": {
    "scrolled": true
   },
   "outputs": [
    {
     "data": {
      "text/plain": [
       "' \"\"\"\\n    SELECT exp_group, bucket,\\n        sum(likes)/sum(views) as bucket_ctr,\\n        quantileExact(0.9)(ctr) as ctr9\\n    FROM (SELECT exp_group, \\n            xxHash64(user_id)%50 as bucket,\\n            user_id,\\n            sum(action = \\'like\\') as likes,\\n            sum(action = \\'view\\') as views,\\n            likes/views as ctr\\n        FROM {db}.feed_actions \\n        WHERE toDate(time) between \\'2022-10-03\\' and \\'2022-10-09\\'\\n            and exp_group in (1,2)\\n        GROUP BY exp_group, bucket, user_id)\\n    GROUP BY exp_group, bucket\\n\"\"\" '"
      ]
     },
     "execution_count": 10,
     "metadata": {},
     "output_type": "execute_result"
    }
   ],
   "source": [
    "''' \"\"\"\n",
    "    SELECT exp_group, bucket,\n",
    "        sum(likes)/sum(views) as bucket_ctr,\n",
    "        quantileExact(0.9)(ctr) as ctr9\n",
    "    FROM (SELECT exp_group, \n",
    "            xxHash64(user_id)%50 as bucket,\n",
    "            user_id,\n",
    "            sum(action = 'like') as likes,\n",
    "            sum(action = 'view') as views,\n",
    "            likes/views as ctr\n",
    "        FROM {db}.feed_actions \n",
    "        WHERE toDate(time) between '2022-10-03' and '2022-10-09'\n",
    "            and exp_group in (1,2)\n",
    "        GROUP BY exp_group, bucket, user_id)\n",
    "    GROUP BY exp_group, bucket\n",
    "\"\"\" '''"
   ]
  },
  {
   "cell_type": "code",
   "execution_count": 11,
   "id": "10fccf5e",
   "metadata": {},
   "outputs": [
    {
     "data": {
      "text/html": [
       "<div>\n",
       "<style scoped>\n",
       "    .dataframe tbody tr th:only-of-type {\n",
       "        vertical-align: middle;\n",
       "    }\n",
       "\n",
       "    .dataframe tbody tr th {\n",
       "        vertical-align: top;\n",
       "    }\n",
       "\n",
       "    .dataframe thead th {\n",
       "        text-align: right;\n",
       "    }\n",
       "</style>\n",
       "<table border=\"1\" class=\"dataframe\">\n",
       "  <thead>\n",
       "    <tr style=\"text-align: right;\">\n",
       "      <th></th>\n",
       "      <th>exp_group</th>\n",
       "      <th>bucket</th>\n",
       "      <th>bucket_ctr</th>\n",
       "      <th>ctr9</th>\n",
       "    </tr>\n",
       "  </thead>\n",
       "  <tbody>\n",
       "    <tr>\n",
       "      <th>0</th>\n",
       "      <td>1</td>\n",
       "      <td>0</td>\n",
       "      <td>0.196481</td>\n",
       "      <td>0.307692</td>\n",
       "    </tr>\n",
       "    <tr>\n",
       "      <th>1</th>\n",
       "      <td>2</td>\n",
       "      <td>0</td>\n",
       "      <td>0.194262</td>\n",
       "      <td>0.384615</td>\n",
       "    </tr>\n",
       "    <tr>\n",
       "      <th>2</th>\n",
       "      <td>1</td>\n",
       "      <td>1</td>\n",
       "      <td>0.211887</td>\n",
       "      <td>0.318182</td>\n",
       "    </tr>\n",
       "    <tr>\n",
       "      <th>3</th>\n",
       "      <td>2</td>\n",
       "      <td>1</td>\n",
       "      <td>0.215328</td>\n",
       "      <td>0.467742</td>\n",
       "    </tr>\n",
       "    <tr>\n",
       "      <th>4</th>\n",
       "      <td>1</td>\n",
       "      <td>2</td>\n",
       "      <td>0.206271</td>\n",
       "      <td>0.322314</td>\n",
       "    </tr>\n",
       "  </tbody>\n",
       "</table>\n",
       "</div>"
      ],
      "text/plain": [
       "   exp_group  bucket  bucket_ctr      ctr9\n",
       "0          1       0    0.196481  0.307692\n",
       "1          2       0    0.194262  0.384615\n",
       "2          1       1    0.211887  0.318182\n",
       "3          2       1    0.215328  0.467742\n",
       "4          1       2    0.206271  0.322314"
      ]
     },
     "execution_count": 11,
     "metadata": {},
     "output_type": "execute_result"
    }
   ],
   "source": [
    "data_2 = pd.read_csv('C:/Users/folde/Desktop/ab-test-baketnoe.csv')\n",
    "data_2.head()"
   ]
  },
  {
   "cell_type": "code",
   "execution_count": 12,
   "id": "22e9f899",
   "metadata": {},
   "outputs": [
    {
     "name": "stdout",
     "output_type": "stream",
     "text": [
      "P-value для CTR1 != CTR2: 2.859963936492646e-07\n",
      "P-value для CTR1 > CTR2: 1.429981968246323e-07\n"
     ]
    }
   ],
   "source": [
    "print(f'P-value для CTR1 != CTR2: {st.mannwhitneyu(data_2[data_2.exp_group == 1].bucket_ctr, data_2[data_2.exp_group == 2].bucket_ctr, alternative = \"two-sided\").pvalue}')\n",
    "print(f'P-value для CTR1 > CTR2: {st.mannwhitneyu(data_2[data_2.exp_group == 1].bucket_ctr, data_2[data_2.exp_group == 2].bucket_ctr, alternative = \"greater\").pvalue}')"
   ]
  },
  {
   "cell_type": "markdown",
   "id": "73db788c-0911-4ff8-9632-eed4a28f8729",
   "metadata": {},
   "source": [
    "#### Подтвердилась гипотеза H1: CTR1 > CTR2 => отвергаем гипотезу H0 об отсутствии различий и CTR1>CTR2 "
   ]
  },
  {
   "cell_type": "markdown",
   "id": "4140ee57-0951-4933-b8b2-5d0c9692ac38",
   "metadata": {},
   "source": [
    "### <font color='DarkCyan'>Выводы</font>\n",
    "\n",
    "По результатам исследования <i>мы отвергаем гипотезу H0 об отсутствии различий</i>. Более того, мы выяснили, что <b>CTR1>CTR2</b>.  \n",
    "Из этого можно было бы сделать вывод, что раскатывать обновление категорически не стоит.  \n",
    "<b>Но!</b>  \n",
    "Так как на графике распределений CTR во второй группе видно 2 вершины, необходимо провести углубленный анализ данной группы, так как возможны следующие причины:  \n",
    "   * Не был проведен АА-тест и группы в целом нельзя сравнивать;  \n",
    "   * Часть пользователей имела проблемы с новым функционалом или с работой приложения в целом;  \n",
    "   * Пользователи разделились на два лагеря (например, по ОС), где одним обновление \"сильно понравилось\", другим \"сильно не понравилось\".\n",
    "\n"
   ]
  }
 ],
 "metadata": {
  "kernelspec": {
   "display_name": "Python 3 (ipykernel)",
   "language": "python",
   "name": "python3"
  },
  "language_info": {
   "codemirror_mode": {
    "name": "ipython",
    "version": 3
   },
   "file_extension": ".py",
   "mimetype": "text/x-python",
   "name": "python",
   "nbconvert_exporter": "python",
   "pygments_lexer": "ipython3",
   "version": "3.9.7"
  }
 },
 "nbformat": 4,
 "nbformat_minor": 5
}
