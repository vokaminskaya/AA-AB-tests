{
 "cells": [
  {
   "cell_type": "markdown",
   "id": "a1d4a34c-acbc-45a1-b5a9-0a27af71019a",
   "metadata": {
    "tags": []
   },
   "source": [
    "### <font color='DarkCyan'>Что у нас есть:</font>\n",
    "данные АА-теста с <b>'2022-09-26'</b> по <b>'2022-10-02'</b>. \n",
    "\n",
    "### <font color='DarkCyan'>Что нужно сделать:</font>\n",
    "* Симуляцию 10000 АА-тестов.\n",
    "* На каждой итерации сформировать подвыборки без повторения в 500 юзеров из 2 и 3 экспериментальной группы. \n",
    "* Провести сравнение подвыборок t-testом.\n",
    "* Построить гистограмму распределения получившихся 10000 p-values.\n",
    "* Посчитать, какой процент p values оказался меньше либо равен 0.05\n",
    "* Написать вывод по проведенному АА-тесту, корректно ли работает наша система сплитования."
   ]
  },
  {
   "cell_type": "code",
   "execution_count": 4,
   "id": "7c9d6810-06bb-44e2-9412-4ea5afeaaee3",
   "metadata": {},
   "outputs": [],
   "source": [
    "import pandas as pd\n",
    "import pandahouse as ph\n",
    "import numpy as np\n",
    "import scipy.stats as st\n",
    "import seaborn as sns\n",
    "import matplotlib.pyplot as plt"
   ]
  },
  {
   "cell_type": "markdown",
   "id": "c8165837-b1e8-45a5-9fc2-356f3458c46d",
   "metadata": {},
   "source": [
    "### <font color='DarkCyan'>Извлечение необходимых данных из базы данных</font>"
   ]
  },
  {
   "cell_type": "markdown",
   "id": "000c0d5d",
   "metadata": {},
   "source": [
    "Данные были извлечены из базы данных с помощью Clickhouse, ниже можно увидеть запрос"
   ]
  },
  {
   "cell_type": "code",
   "execution_count": 66,
   "id": "1291c3c2-f3d8-41c9-be75-b62e182efbb3",
   "metadata": {
    "scrolled": false
   },
   "outputs": [
    {
     "data": {
      "text/plain": [
       "'query = \"\"\"SELECT exp_group, \\n        user_id,\\n        sum(action = \\'like\\') as likes,\\n        sum(action = \\'view\\') as views,\\n        likes/views as ctr\\n    FROM {db}.feed_actions \\n    WHERE toDate(time) between \\'2022-09-26\\' and \\'2022-10-02\\'\\n        and exp_group in (2,3)\\n    GROUP BY exp_group, user_id\"\"\" '"
      ]
     },
     "execution_count": 66,
     "metadata": {},
     "output_type": "execute_result"
    }
   ],
   "source": [
    "'''query = \"\"\"SELECT exp_group, \n",
    "        user_id,\n",
    "        sum(action = 'like') as likes,\n",
    "        sum(action = 'view') as views,\n",
    "        likes/views as ctr\n",
    "    FROM {db}.feed_actions \n",
    "    WHERE toDate(time) between '2022-09-26' and '2022-10-02'\n",
    "        and exp_group in (2,3)\n",
    "    GROUP BY exp_group, user_id\"\"\" '''"
   ]
  },
  {
   "cell_type": "code",
   "execution_count": 69,
   "id": "6a6f5b34",
   "metadata": {},
   "outputs": [
    {
     "data": {
      "text/html": [
       "<div>\n",
       "<style scoped>\n",
       "    .dataframe tbody tr th:only-of-type {\n",
       "        vertical-align: middle;\n",
       "    }\n",
       "\n",
       "    .dataframe tbody tr th {\n",
       "        vertical-align: top;\n",
       "    }\n",
       "\n",
       "    .dataframe thead th {\n",
       "        text-align: right;\n",
       "    }\n",
       "</style>\n",
       "<table border=\"1\" class=\"dataframe\">\n",
       "  <thead>\n",
       "    <tr style=\"text-align: right;\">\n",
       "      <th></th>\n",
       "      <th>exp_group</th>\n",
       "      <th>user_id</th>\n",
       "      <th>likes</th>\n",
       "      <th>views</th>\n",
       "      <th>ctr</th>\n",
       "    </tr>\n",
       "  </thead>\n",
       "  <tbody>\n",
       "    <tr>\n",
       "      <th>0</th>\n",
       "      <td>3</td>\n",
       "      <td>115383</td>\n",
       "      <td>11</td>\n",
       "      <td>36</td>\n",
       "      <td>0.305556</td>\n",
       "    </tr>\n",
       "    <tr>\n",
       "      <th>1</th>\n",
       "      <td>3</td>\n",
       "      <td>123580</td>\n",
       "      <td>15</td>\n",
       "      <td>92</td>\n",
       "      <td>0.163043</td>\n",
       "    </tr>\n",
       "    <tr>\n",
       "      <th>2</th>\n",
       "      <td>2</td>\n",
       "      <td>131473</td>\n",
       "      <td>26</td>\n",
       "      <td>148</td>\n",
       "      <td>0.175676</td>\n",
       "    </tr>\n",
       "    <tr>\n",
       "      <th>3</th>\n",
       "      <td>2</td>\n",
       "      <td>23985</td>\n",
       "      <td>12</td>\n",
       "      <td>66</td>\n",
       "      <td>0.181818</td>\n",
       "    </tr>\n",
       "    <tr>\n",
       "      <th>4</th>\n",
       "      <td>2</td>\n",
       "      <td>24523</td>\n",
       "      <td>17</td>\n",
       "      <td>120</td>\n",
       "      <td>0.141667</td>\n",
       "    </tr>\n",
       "  </tbody>\n",
       "</table>\n",
       "</div>"
      ],
      "text/plain": [
       "   exp_group  user_id  likes  views       ctr\n",
       "0          3   115383     11     36  0.305556\n",
       "1          3   123580     15     92  0.163043\n",
       "2          2   131473     26    148  0.175676\n",
       "3          2    23985     12     66  0.181818\n",
       "4          2    24523     17    120  0.141667"
      ]
     },
     "execution_count": 69,
     "metadata": {},
     "output_type": "execute_result"
    }
   ],
   "source": [
    "df = pd.read_csv('C:/Users/folde/Desktop/aa-test.csv')\n",
    "df.head()"
   ]
  },
  {
   "cell_type": "markdown",
   "id": "35b78b80-e579-40f6-bd0e-9f3e5387481a",
   "metadata": {},
   "source": [
    "### <font color='DarkCyan'>Проверка корректности работы системы сплитования с помощью визуальных данных</font>"
   ]
  },
  {
   "cell_type": "code",
   "execution_count": 71,
   "id": "b441171f-1209-4ee6-81d0-404aab5acc6c",
   "metadata": {},
   "outputs": [
    {
     "data": {
      "text/html": [
       "<div>\n",
       "<style scoped>\n",
       "    .dataframe tbody tr th:only-of-type {\n",
       "        vertical-align: middle;\n",
       "    }\n",
       "\n",
       "    .dataframe tbody tr th {\n",
       "        vertical-align: top;\n",
       "    }\n",
       "\n",
       "    .dataframe thead th {\n",
       "        text-align: right;\n",
       "    }\n",
       "</style>\n",
       "<table border=\"1\" class=\"dataframe\">\n",
       "  <thead>\n",
       "    <tr style=\"text-align: right;\">\n",
       "      <th></th>\n",
       "      <th>exp_group</th>\n",
       "    </tr>\n",
       "  </thead>\n",
       "  <tbody>\n",
       "    <tr>\n",
       "      <th>3</th>\n",
       "      <td>8569</td>\n",
       "    </tr>\n",
       "    <tr>\n",
       "      <th>2</th>\n",
       "      <td>8480</td>\n",
       "    </tr>\n",
       "  </tbody>\n",
       "</table>\n",
       "</div>"
      ],
      "text/plain": [
       "   exp_group\n",
       "3       8569\n",
       "2       8480"
      ]
     },
     "execution_count": 71,
     "metadata": {},
     "output_type": "execute_result"
    }
   ],
   "source": [
    "df['exp_group'].value_counts().to_frame()"
   ]
  },
  {
   "cell_type": "code",
   "execution_count": 72,
   "id": "c3d3ddc0-2bff-4b21-9ae2-37b37f1b27f3",
   "metadata": {},
   "outputs": [
    {
     "data": {
      "text/plain": [
       "Text(0.5, 1.0, 'Показатель CTR внутри групп')"
      ]
     },
     "execution_count": 72,
     "metadata": {},
     "output_type": "execute_result"
    },
    {
     "data": {
      "image/png": "[encoded data removed]",
      "text/plain": [
       "<Figure size 842.4x595.44 with 1 Axes>"
      ]
     },
     "metadata": {},
     "output_type": "display_data"
    }
   ],
   "source": [
    "sns.set(rc={'figure.figsize':(11.7,8.27)})\n",
    "\n",
    "groups = sns.histplot(data = df, \n",
    "              x='ctr', \n",
    "              hue='exp_group', \n",
    "              palette = ['g', 'b'],\n",
    "              alpha=0.5,\n",
    "              kde=False)\n",
    "plt.title('Показатель CTR внутри групп')"
   ]
  },
  {
   "cell_type": "markdown",
   "id": "eff564d0-9ef6-45a6-871f-1393e9f92410",
   "metadata": {},
   "source": [
    "### <font color='DarkCyan'>Стандартный t-test</font>\n",
    "\n",
    "Гипотезы:  \n",
    "<b>Н0:</b> CTR1=CTR2  \n",
    "<b>Н1:</b> CTR1 != CTR2"
   ]
  },
  {
   "cell_type": "code",
   "execution_count": 73,
   "id": "b0891fc2-c921-4858-859a-698e8a0f3671",
   "metadata": {},
   "outputs": [
    {
     "data": {
      "text/plain": [
       "Ttest_indResult(statistic=-0.7393597924958364, pvalue=0.45969873156476293)"
      ]
     },
     "execution_count": 73,
     "metadata": {},
     "output_type": "execute_result"
    }
   ],
   "source": [
    "st.ttest_ind(df[df.exp_group == 2].ctr,\n",
    "                df[df.exp_group == 3].ctr,\n",
    "                equal_var=False)"
   ]
  },
  {
   "cell_type": "markdown",
   "id": "494e3db0-2e3d-4267-97f9-6f956fa91a8a",
   "metadata": {},
   "source": [
    "##### p-value>0,05 => Нельзя опровергнуть гипотезу H0"
   ]
  },
  {
   "cell_type": "markdown",
   "id": "cfc450c4-ebde-4d90-b92b-e8fbad1185bf",
   "metadata": {},
   "source": [
    "### <font color='DarkCyan'>Симуляция 10000 АА-тестов</font>"
   ]
  },
  {
   "cell_type": "markdown",
   "id": "b5f6f0f7-ac32-46fd-b4b6-80a30a8b99da",
   "metadata": {},
   "source": [
    "* Проводим симуляцию 10000 АА-тестов.\n",
    "* На каждой итерации формируем подвыборки без повторения в 500 юзеров из 2 и 3 экспериментальной группы. \n",
    "* Сравнение подвыборок t-testом."
   ]
  },
  {
   "cell_type": "code",
   "execution_count": 74,
   "id": "79a5c7b3-062c-4f04-9198-901de02d62e5",
   "metadata": {},
   "outputs": [],
   "source": [
    "p_value_10000 = []\n",
    "\n",
    "for _ in range(10000):\n",
    "    group_2 = df[df['exp_group'] == 2].sample(500, replace=False)\n",
    "    group_3 = df[df['exp_group'] == 3].sample(500, replace=False)\n",
    "    p_value_10000.append(st.ttest_ind(group_2.ctr, group_3.ctr, equal_var= False)[1])"
   ]
  },
  {
   "cell_type": "markdown",
   "id": "38effea1-0d52-43d4-881a-f3fb074c25d8",
   "metadata": {},
   "source": [
    "* Строим гистограмму распределения получившихся 10000 p-values.\n",
    "* Считаем, какой процент p values оказался меньше либо равен 0.05"
   ]
  },
  {
   "cell_type": "code",
   "execution_count": 75,
   "id": "2a53d74b-6329-4d95-be24-7ce6cd5c79f8",
   "metadata": {},
   "outputs": [
    {
     "data": {
      "image/png": "[encoded data removed]",
      "text/plain": [
       "<Figure size 842.4x595.44 with 1 Axes>"
      ]
     },
     "metadata": {},
     "output_type": "display_data"
    }
   ],
   "source": [
    "sns.histplot(p_value_10000) \n",
    "plt.title('Распределение 10000 p-values')\n",
    "plt.xlabel = ('p-values')"
   ]
  },
  {
   "cell_type": "code",
   "execution_count": 76,
   "id": "9e389c3a-168b-4554-829d-580cf349515c",
   "metadata": {},
   "outputs": [
    {
     "name": "stdout",
     "output_type": "stream",
     "text": [
      "4.84 знчений p-values оказалось меньше либо равно 0,05\n"
     ]
    }
   ],
   "source": [
    "print(f'{round(len([i for i in p_value_10000 if i <= 0.05])/len(p_value_10000)*100, 2)} знчений p-values оказалось меньше либо равно 0,05')"
   ]
  },
  {
   "cell_type": "markdown",
   "id": "78d2e304-23d2-407f-ba3a-3962e4425a51",
   "metadata": {},
   "source": [
    "### <font color='DarkCyan'>Вывод</font>\n",
    "\n",
    "В АА-тесте ложноположительных срабатываний должно быть не более <b>5-ти %</b>. В нашем случае это значение составляет <b>4,86%</b>, соответственно система сплитования работает корректно и группы пригодны для проведения АБ-теста. "
   ]
  },
  {
   "cell_type": "code",
   "execution_count": null,
   "id": "2382ae48",
   "metadata": {},
   "outputs": [],
   "source": []
  }
 ],
 "metadata": {
  "kernelspec": {
   "display_name": "Python 3 (ipykernel)",
   "language": "python",
   "name": "python3"
  },
  "language_info": {
   "codemirror_mode": {
    "name": "ipython",
    "version": 3
   },
   "file_extension": ".py",
   "mimetype": "text/x-python",
   "name": "python",
   "nbconvert_exporter": "python",
   "pygments_lexer": "ipython3",
   "version": "3.9.7"
  }
 },
 "nbformat": 4,
 "nbformat_minor": 5
}
